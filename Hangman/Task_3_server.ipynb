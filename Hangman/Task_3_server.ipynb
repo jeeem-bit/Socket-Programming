{
 "cells": [
  {
   "cell_type": "code",
   "execution_count": 7,
   "id": "composite-relation",
   "metadata": {},
   "outputs": [
    {
     "name": "stdout",
     "output_type": "stream",
     "text": [
      "Hangman word: hello\n"
     ]
    },
    {
     "ename": "ConnectionResetError",
     "evalue": "[WinError 10054] An existing connection was forcibly closed by the remote host",
     "output_type": "error",
     "traceback": [
      "\u001b[1;31m---------------------------------------------------------------------------\u001b[0m",
      "\u001b[1;31mConnectionResetError\u001b[0m                      Traceback (most recent call last)",
      "\u001b[1;32m<ipython-input-7-5a40e5e92206>\u001b[0m in \u001b[0;36m<module>\u001b[1;34m\u001b[0m\n\u001b[0;32m     16\u001b[0m     \u001b[0mrx_msg_str\u001b[0m \u001b[1;33m=\u001b[0m \u001b[1;34m''\u001b[0m\u001b[1;33m\u001b[0m\u001b[1;33m\u001b[0m\u001b[0m\n\u001b[0;32m     17\u001b[0m     \u001b[1;32mwhile\u001b[0m \u001b[1;34m'\\n'\u001b[0m \u001b[1;32mnot\u001b[0m \u001b[1;32min\u001b[0m \u001b[0mrx_msg_str\u001b[0m\u001b[1;33m:\u001b[0m\u001b[1;33m\u001b[0m\u001b[1;33m\u001b[0m\u001b[0m\n\u001b[1;32m---> 18\u001b[1;33m         \u001b[0mrx_msg_str\u001b[0m \u001b[1;33m+=\u001b[0m \u001b[0mgame_socket\u001b[0m\u001b[1;33m.\u001b[0m\u001b[0mrecv\u001b[0m\u001b[1;33m(\u001b[0m\u001b[1;36m1024\u001b[0m\u001b[1;33m)\u001b[0m\u001b[1;33m.\u001b[0m\u001b[0mdecode\u001b[0m\u001b[1;33m(\u001b[0m\u001b[1;33m)\u001b[0m\u001b[1;33m\u001b[0m\u001b[1;33m\u001b[0m\u001b[0m\n\u001b[0m\u001b[0;32m     19\u001b[0m \u001b[1;33m\u001b[0m\u001b[0m\n\u001b[0;32m     20\u001b[0m     \u001b[1;32mif\u001b[0m \u001b[0mrx_msg_str\u001b[0m\u001b[1;33m[\u001b[0m\u001b[1;33m:\u001b[0m\u001b[1;36m5\u001b[0m\u001b[1;33m]\u001b[0m \u001b[1;33m==\u001b[0m \u001b[1;34m\"GUESS\"\u001b[0m\u001b[1;33m:\u001b[0m\u001b[1;33m\u001b[0m\u001b[1;33m\u001b[0m\u001b[0m\n",
      "\u001b[1;31mConnectionResetError\u001b[0m: [WinError 10054] An existing connection was forcibly closed by the remote host"
     ]
    }
   ],
   "source": [
    "import socket\n",
    "\n",
    "listen_socket = socket.socket()\n",
    "listen_socket.bind(('127.0.0.1', 12345))\n",
    "listen_socket.listen()\n",
    "\n",
    "game_socket, addr = listen_socket.accept()\n",
    "\n",
    "# server input word first, then display \n",
    "word = input(\"Hangman word: \")\n",
    "left = len(word)\n",
    "\n",
    "game_socket.sendall(b'START,' + str(len(word)).encode() + b'\\n')\n",
    "\n",
    "while True: \n",
    "    rx_msg_str = ''\n",
    "    while '\\n' not in rx_msg_str:\n",
    "        rx_msg_str += game_socket.recv(1024).decode()\n",
    "    \n",
    "    if rx_msg_str[:5] == \"GUESS\": \n",
    "        guess_letter = rx_msg_str[6:-1]\n",
    "        guess_index = ''\n",
    "        for i in range(len(word)):\n",
    "            if word[i] == guess_letter:\n",
    "                guess_index += str(i) + ','\n",
    "                left -= 1\n",
    "        guess_index = guess_index[:-1]\n",
    "        if left == 0: \n",
    "            game_socket.sendall(b'WIN\\n')\n",
    "        if guess_index == '':\n",
    "            game_socket.sendall(b'GUESS\\n')\n",
    "        else:\n",
    "            game_socket.sendall(b'GUESS,' + guess_index.encode() + b'\\n')\n",
    "        \n",
    "    if rx_msg_str[:5] == \"HWORD\":\n",
    "        guess_word = rx_msg_str[6:-1]\n",
    "        if guess_word == word:\n",
    "            game_socket.sendall(b'WIN\\n')\n",
    "            break\n",
    "        else:\n",
    "            game_socket.sendall(b'LOSE\\n')\n",
    "            break\n",
    "            \n",
    "    if rx_msg_str[:4] == \"QUIT\": \n",
    "        game_socket.sendall(b'QUIT\\n')\n",
    "        break \n",
    "\n",
    "game_socket.close()   \n",
    "listen_socket.close()   "
   ]
  },
  {
   "cell_type": "code",
   "execution_count": null,
   "id": "original-person",
   "metadata": {},
   "outputs": [],
   "source": []
  }
 ],
 "metadata": {
  "kernelspec": {
   "display_name": "Python 3",
   "language": "python",
   "name": "python3"
  },
  "language_info": {
   "codemirror_mode": {
    "name": "ipython",
    "version": 3
   },
   "file_extension": ".py",
   "mimetype": "text/x-python",
   "name": "python",
   "nbconvert_exporter": "python",
   "pygments_lexer": "ipython3",
   "version": "3.7.6"
  }
 },
 "nbformat": 4,
 "nbformat_minor": 5
}
