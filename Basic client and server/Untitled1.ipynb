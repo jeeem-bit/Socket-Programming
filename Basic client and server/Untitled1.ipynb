{
 "cells": [
  {
   "cell_type": "code",
   "execution_count": 1,
   "id": "latest-catch",
   "metadata": {},
   "outputs": [
    {
     "name": "stdout",
     "output_type": "stream",
     "text": [
      "WAITING FOR SERVER...\n",
      "SERVER WROTE: hi\n",
      "\n",
      "INPUT CLIENT: quit!!!\n",
      "quit\n"
     ]
    }
   ],
   "source": [
    "import socket\n",
    "\n",
    "chat_socket = socket.socket()\n",
    "\n",
    "chat_socket.connect(('192.168.0.104', 50000))\n",
    "while True:\n",
    "    print('WAITING FOR SERVER...')\n",
    "    data = b''\n",
    "    while b'\\n' not in data:\n",
    "        data += chat_socket.recv(1024)\n",
    "    if data == b'quit!!!\\n':\n",
    "        chat_socket.close()\n",
    "        print('quit')\n",
    "        break\n",
    "    print('SERVER WROTE: ' + data.decode())\n",
    "    data = input('INPUT CLIENT: ').encode()\n",
    "    chat_socket.sendall(data + b'\\n')\n",
    "    if data == b'quit!!!':\n",
    "        print('quit')\n",
    "        chat_socket.close()\n",
    "        break\n",
    "        "
   ]
  }
 ],
 "metadata": {
  "kernelspec": {
   "display_name": "Python 3",
   "language": "python",
   "name": "python3"
  },
  "language_info": {
   "codemirror_mode": {
    "name": "ipython",
    "version": 3
   },
   "file_extension": ".py",
   "mimetype": "text/x-python",
   "name": "python",
   "nbconvert_exporter": "python",
   "pygments_lexer": "ipython3",
   "version": "3.7.6"
  }
 },
 "nbformat": 4,
 "nbformat_minor": 5
}
