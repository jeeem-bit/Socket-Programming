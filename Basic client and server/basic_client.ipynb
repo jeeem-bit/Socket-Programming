{
 "cells": [
  {
   "cell_type": "code",
   "execution_count": 2,
   "id": "present-default",
   "metadata": {},
   "outputs": [
    {
     "name": "stdout",
     "output_type": "stream",
     "text": [
      "Enter IPv4 address of server: 127.0.0.1\n",
      "Enter port number of server: 12345\n",
      "b'Hello from server\\n'\n"
     ]
    }
   ],
   "source": [
    "import socket\n",
    "\n",
    "my_socket = socket.socket()\n",
    "\n",
    "address = input('Enter IPv4 address of server: ')\n",
    "port = int(input('Enter port number of server: '))\n",
    "\n",
    "my_socket.connect((address, port))\n",
    "print(my_socket.recv(1024))\n",
    "my_socket.close()"
   ]
  },
  {
   "cell_type": "code",
   "execution_count": null,
   "id": "confirmed-overview",
   "metadata": {},
   "outputs": [],
   "source": [
    "import socket\n",
    "\n",
    "my_socket = socket.socket()\n",
    "\n",
    "address = input('Enter IPv4 address of server: ')\n",
    "port = int(input('Enter port number of server: '))\n",
    "\n",
    "my_socket.connect((address, port))\n",
    "data = b''\n",
    "while b'\\n' not in data:\n",
    "    data += my_socket.recv((1024)) # makes sure that full msg is recieved even though there is delay\n",
    "    \n",
    "print(data)\n",
    "my_socket.close()"
   ]
  },
  {
   "cell_type": "code",
   "execution_count": null,
   "id": "gross-mirror",
   "metadata": {},
   "outputs": [],
   "source": [
    "import socket\n",
    "\n",
    "chat_socket = socket.socket()\n",
    "\n",
    "address = input('Enter IPv4 address of server: ')\n",
    "port = int(input('Enter port number of server: '))\n",
    "\n",
    "chat_socket.connect((address, port))\n",
    "while True:\n",
    "    print('WAITING FOR SERVER...')\n",
    "    data = b''\n",
    "    while b'\\n' not in data:\n",
    "        data += chat_socket.recv(1024)\n",
    "        \n",
    "    print('SERVER WROTE: ' + data.decode())\n",
    "    data = input('INPUT CLIENT: ').encode()\n",
    "    chat_socket.sendall(data + b'\\n')\n",
    "        \n",
    "    "
   ]
  }
 ],
 "metadata": {
  "kernelspec": {
   "display_name": "Python 3",
   "language": "python",
   "name": "python3"
  },
  "language_info": {
   "codemirror_mode": {
    "name": "ipython",
    "version": 3
   },
   "file_extension": ".py",
   "mimetype": "text/x-python",
   "name": "python",
   "nbconvert_exporter": "python",
   "pygments_lexer": "ipython3",
   "version": "3.7.6"
  }
 },
 "nbformat": 4,
 "nbformat_minor": 5
}
