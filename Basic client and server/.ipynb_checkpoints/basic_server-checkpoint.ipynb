{
 "cells": [
  {
   "cell_type": "code",
   "execution_count": 4,
   "id": "polish-distributor",
   "metadata": {},
   "outputs": [
    {
     "name": "stdout",
     "output_type": "stream",
     "text": [
      "Connected to: ('127.0.0.1', 52350)\n"
     ]
    }
   ],
   "source": [
    "import socket\n",
    "\n",
    "my_socket = socket.socket()\n",
    "my_socket.bind(('127.0.0.1', 12345))\n",
    "my_socket.listen()\n",
    "\n",
    "new_socket, addr = my_socket.accept()\n",
    "print('Connected to: ' + str(addr))\n",
    "new_socket.sendall(b'Hello from server\\n')\n",
    "new_socket.close()\n",
    "my_socket.close()\n"
   ]
  },
  {
   "cell_type": "code",
   "execution_count": null,
   "id": "temporal-editing",
   "metadata": {},
   "outputs": [],
   "source": [
    "import socket\n",
    "import time\n",
    "\n",
    "my_socket = socket.socket()\n",
    "my_socket.bind(('127.0.0.1', 12345))\n",
    "my_socket.listen()\n",
    "\n",
    "new_socket, addr = my_socket.accept()\n",
    "print('Connected to: ' + str(addr))\n",
    "new_socket.sendall(b'Hello fr')\n",
    "time.sleep(0.1)\n",
    "new_socket.sendall(b'om server\\n')\n",
    "new_socket.close()\n",
    "my_socket.close()"
   ]
  },
  {
   "cell_type": "code",
   "execution_count": null,
   "id": "operating-impression",
   "metadata": {},
   "outputs": [],
   "source": [
    "import socket\n",
    "\n",
    "listen_socket = socket.socket()\n",
    "listen_socket.bind(('127.0.0.1', 6789))\n",
    "listen_socket.listen()\n",
    "\n",
    "chat_socket, addr = listen_socket.accept()\n",
    "while True:\n",
    "    data = input('INPUT SERVER: ').encode()\n",
    "    chat_socket.sendall(data + b'\\n')\n",
    "    print('WAITING FOR CLIENT...')\n",
    "    data = b''\n",
    "    while b'\\n' not in data:\n",
    "        data += chat_socket.recv(1024)\n",
    "    print('CLIENT WROTE: ' + data.decode())"
   ]
  }
 ],
 "metadata": {
  "kernelspec": {
   "display_name": "Python 3",
   "language": "python",
   "name": "python3"
  },
  "language_info": {
   "codemirror_mode": {
    "name": "ipython",
    "version": 3
   },
   "file_extension": ".py",
   "mimetype": "text/x-python",
   "name": "python",
   "nbconvert_exporter": "python",
   "pygments_lexer": "ipython3",
   "version": "3.7.6"
  }
 },
 "nbformat": 4,
 "nbformat_minor": 5
}
