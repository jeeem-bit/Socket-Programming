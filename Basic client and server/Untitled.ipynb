{
 "cells": [
  {
   "cell_type": "code",
   "execution_count": null,
   "id": "federal-hardware",
   "metadata": {},
   "outputs": [
    {
     "name": "stdout",
     "output_type": "stream",
     "text": [
      "WAITING FOR SERVER...\n",
      "SERVER WROTE: hi\n",
      "\n",
      "INPUT CLIENT: quit!!!\n",
      "WAITING FOR SERVER...\n"
     ]
    }
   ],
   "source": [
    "import socket\n",
    "\n",
    "chat_socket = socket.socket()\n",
    "\n",
    "chat_socket.connect(('192.168.0.104', 50000))\n",
    "while True:\n",
    "    print('WAITING FOR SERVER...')\n",
    "    data = b''\n",
    "    while b'\\n' not in data:\n",
    "        data += chat_socket.recv(1024)\n",
    "        \n",
    "    print('SERVER WROTE: ' + data.decode())\n",
    "    data = input('INPUT CLIENT: ').encode()\n",
    "    chat_socket.sendall(data + b'\\n')\n"
   ]
  }
 ],
 "metadata": {
  "kernelspec": {
   "display_name": "Python 3",
   "language": "python",
   "name": "python3"
  }
 },
 "nbformat": 4,
 "nbformat_minor": 5
}
