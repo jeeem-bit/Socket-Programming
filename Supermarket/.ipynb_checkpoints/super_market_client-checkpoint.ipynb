{
 "cells": [
  {
   "cell_type": "code",
   "execution_count": null,
   "id": "micro-database",
   "metadata": {},
   "outputs": [],
   "source": [
    "import socket\n",
    "\n",
    "my_socket = socket.socket()\n",
    "my_socket.connect(('127.0.0.1', 12345))\n",
    "\n",
    "actions = [\"CHECK\", \"UPDATE\", \"DELETE\", \"QUIT\"]\n",
    "while True:\n",
    "    action = input(\"Please input action and items: \")\n",
    "    my_socket.sendall(b'' + action.encode() + b'\\n')\n",
    "    \n",
    "    recieved = ''\n",
    "    while '\\n' not in recieved:\n",
    "        recieved += my_socket.recv(1024).decode()\n",
    "        \n",
    "    if recieved[:5] == \"CHECK\":\n",
    "        print(recieved[6:])\n",
    "        \n",
    "    elif recieved[:6] == \"UPDATE\":\n",
    "        print(recieved[7:])\n",
    "        \n",
    "    elif recieved[:6] == \"DELETE\":\n",
    "        print(recieved[7:])\n",
    "        \n",
    "    elif recieved[:-1] == \"QUIT\":\n",
    "        print(\"Quit\")\n",
    "        break\n",
    "        \n",
    "    else:\n",
    "        raise \"Invalid Command.\"\n",
    "        \n",
    "\n",
    "my_socket.close()"
   ]
  },
  {
   "cell_type": "code",
   "execution_count": null,
   "id": "tamil-dinner",
   "metadata": {},
   "outputs": [],
   "source": []
  },
  {
   "cell_type": "code",
   "execution_count": null,
   "id": "latest-outside",
   "metadata": {},
   "outputs": [],
   "source": []
  }
 ],
 "metadata": {
  "kernelspec": {
   "display_name": "Python 3",
   "language": "python",
   "name": "python3"
  },
  "language_info": {
   "codemirror_mode": {
    "name": "ipython",
    "version": 3
   },
   "file_extension": ".py",
   "mimetype": "text/x-python",
   "name": "python",
   "nbconvert_exporter": "python",
   "pygments_lexer": "ipython3",
   "version": "3.7.6"
  }
 },
 "nbformat": 4,
 "nbformat_minor": 5
}
