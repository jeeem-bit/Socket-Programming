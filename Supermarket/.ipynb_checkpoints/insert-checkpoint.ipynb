{
 "cells": [
  {
   "cell_type": "code",
   "execution_count": 15,
   "id": "north-dryer",
   "metadata": {},
   "outputs": [],
   "source": [
    "import pymongo\n",
    "\n",
    "with open('supermarket_items.txt', 'r') as f:\n",
    "    line = f.readline()\n",
    "    results = []\n",
    "    while line:\n",
    "        temp = line.split(',')\n",
    "        temp[3] = temp[3][:-1]\n",
    "        results.append(temp)\n",
    "        line = f.readline()\n",
    "    headers = []\n",
    "    for header in results[0]:\n",
    "        headers.append(header.strip('<>'))\n",
    "#     print(headers)\n",
    "    items = results[1:]\n",
    "    \n",
    "    client = pymongo.MongoClient('127.0.0.1', 27017)\n",
    "    client.drop_database('Supermarket')\n",
    "    db = client.get_database('Supermarket')\n",
    "    col = db.get_collection('supermarket')\n",
    "    for item in items:\n",
    "        temp_dict = {}\n",
    "        for i in range(len(item)):\n",
    "            temp_dict[headers[i]] = item[i]\n",
    "        col.insert_one(temp_dict)\n",
    "    client.close()     "
   ]
  }
 ],
 "metadata": {
  "kernelspec": {
   "display_name": "Python 3",
   "language": "python",
   "name": "python3"
  },
  "language_info": {
   "codemirror_mode": {
    "name": "ipython",
    "version": 3
   },
   "file_extension": ".py",
   "mimetype": "text/x-python",
   "name": "python",
   "nbconvert_exporter": "python",
   "pygments_lexer": "ipython3",
   "version": "3.7.6"
  }
 },
 "nbformat": 4,
 "nbformat_minor": 5
}
