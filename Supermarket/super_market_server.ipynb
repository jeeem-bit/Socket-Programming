{
 "cells": [
  {
   "cell_type": "code",
   "execution_count": 1,
   "metadata": {},
   "outputs": [
    {
     "name": "stdout",
     "output_type": "stream",
     "text": [
      "waiting connection...\n",
      "connection accepted:\n"
     ]
    },
    {
     "ename": "ConnectionResetError",
     "evalue": "[WinError 10054] An existing connection was forcibly closed by the remote host",
     "output_type": "error",
     "traceback": [
      "\u001b[1;31m---------------------------------------------------------------------------\u001b[0m",
      "\u001b[1;31mConnectionResetError\u001b[0m                      Traceback (most recent call last)",
      "\u001b[1;32m<ipython-input-1-e1c94c61b491>\u001b[0m in \u001b[0;36m<module>\u001b[1;34m\u001b[0m\n\u001b[0;32m     23\u001b[0m     \u001b[0mrx_msg_str\u001b[0m \u001b[1;33m=\u001b[0m \u001b[1;34m\"\"\u001b[0m\u001b[1;33m\u001b[0m\u001b[1;33m\u001b[0m\u001b[0m\n\u001b[0;32m     24\u001b[0m     \u001b[1;32mwhile\u001b[0m \u001b[1;34m\"\\n\"\u001b[0m \u001b[1;32mnot\u001b[0m \u001b[1;32min\u001b[0m \u001b[0mrx_msg_str\u001b[0m\u001b[1;33m:\u001b[0m\u001b[1;33m\u001b[0m\u001b[1;33m\u001b[0m\u001b[0m\n\u001b[1;32m---> 25\u001b[1;33m         \u001b[0mrx_msg_str\u001b[0m \u001b[1;33m+=\u001b[0m \u001b[0mgame_socket\u001b[0m\u001b[1;33m.\u001b[0m\u001b[0mrecv\u001b[0m\u001b[1;33m(\u001b[0m\u001b[1;36m1024\u001b[0m\u001b[1;33m)\u001b[0m\u001b[1;33m.\u001b[0m\u001b[0mdecode\u001b[0m\u001b[1;33m(\u001b[0m\u001b[1;33m)\u001b[0m\u001b[1;33m\u001b[0m\u001b[1;33m\u001b[0m\u001b[0m\n\u001b[0m\u001b[0;32m     26\u001b[0m \u001b[1;33m\u001b[0m\u001b[0m\n\u001b[0;32m     27\u001b[0m     \u001b[1;32mif\u001b[0m \u001b[0mrx_msg_str\u001b[0m\u001b[1;33m[\u001b[0m\u001b[1;33m:\u001b[0m\u001b[1;36m5\u001b[0m\u001b[1;33m]\u001b[0m \u001b[1;33m==\u001b[0m \u001b[1;34m\"CHECK\"\u001b[0m\u001b[1;33m:\u001b[0m\u001b[1;33m\u001b[0m\u001b[1;33m\u001b[0m\u001b[0m\n",
      "\u001b[1;31mConnectionResetError\u001b[0m: [WinError 10054] An existing connection was forcibly closed by the remote host"
     ]
    }
   ],
   "source": [
    "import socket\n",
    "\n",
    "#socket.AF_INET => Using IPv4\n",
    "#socket.SOCK_STREAM => Using TCP\n",
    "listen_socket = socket.socket(socket.AF_INET, socket.SOCK_STREAM)\n",
    "#'127.0.0.1 loop back address, 2345 port number\n",
    "listen_socket.bind(('127.0.0.1', 12345))\n",
    "print(\"waiting connection...\")\n",
    "listen_socket.listen()\n",
    "game_socket, addr = listen_socket.accept()\n",
    "print(\"connection accepted:\")\n",
    "\n",
    "\n",
    "store_list = {\"apple\":0.9,\n",
    "            \"banana\":1.2,\n",
    "            \"carrot\":1.5,\n",
    "            \"dragon fruit\":3.0,\n",
    "            \"egg plant\":2.6}\n",
    "\n",
    "done = False\n",
    "while not done:\n",
    "    # server always waits for client's msg\n",
    "    rx_msg_str = \"\"\n",
    "    while \"\\n\" not in rx_msg_str:\n",
    "        rx_msg_str += game_socket.recv(1024).decode()\n",
    "        \n",
    "    if rx_msg_str[:5] == \"CHECK\":\n",
    "        msg_check = \"CHECK\"\n",
    "        header, item_name = rx_msg_str[:-1].split(',')\n",
    "        if item_name in store_list:\n",
    "            msg_check += \",\" + item_name + \",\" + str(store_list[item_name])\n",
    "        msg_check += \"\\n\"\n",
    "        game_socket.send(msg_check.encode())\n",
    "\n",
    "            \n",
    "    elif rx_msg_str[:6] == \"UPDATE\":\n",
    "        msg_update = \"UPDATE\"\n",
    "        header, item_name, price = rx_msg_str[:-1].split(',')\n",
    "        if item_name in store_list:\n",
    "            store_list[item_name] = float(price)\n",
    "            msg_update += \",OK\"\n",
    "        else:\n",
    "            msg_update += \",FAIL\"\n",
    "        msg_update += \"\\n\"\n",
    "        game_socket.send(msg_update.encode())\n",
    "            \n",
    "    elif rx_msg_str[:6] == \"DELETE\":\n",
    "        msg_delete = \"DELETE\"\n",
    "        header, item_name = rx_msg_str[:-1].split(',')\n",
    "        if item_name in store_list:\n",
    "            store_list.pop(item_name)\n",
    "            msg_delete += \",OK\"\n",
    "        else:\n",
    "            msg_delete += \",FAIL\"\n",
    "        msg_delete += \"\\n\"\n",
    "        game_socket.send(msg_delete.encode())\n",
    "            \n",
    "    elif rx_msg_str[:-1] == \"QUIT\":\n",
    "        done = True\n",
    "        game_socket.send(\"QUIT\\n\".encode())\n",
    "        print(\"User quits.\")\n",
    "    else:\n",
    "        raise \"Invalid command.\"\n",
    "        \n",
    "game_socket.close()\n",
    "listen_socket.close()"
   ]
  },
  {
   "cell_type": "code",
   "execution_count": null,
   "metadata": {},
   "outputs": [],
   "source": []
  }
 ],
 "metadata": {
  "kernelspec": {
   "display_name": "Python 3",
   "language": "python",
   "name": "python3"
  },
  "language_info": {
   "codemirror_mode": {
    "name": "ipython",
    "version": 3
   },
   "file_extension": ".py",
   "mimetype": "text/x-python",
   "name": "python",
   "nbconvert_exporter": "python",
   "pygments_lexer": "ipython3",
   "version": "3.7.6"
  }
 },
 "nbformat": 4,
 "nbformat_minor": 2
}
