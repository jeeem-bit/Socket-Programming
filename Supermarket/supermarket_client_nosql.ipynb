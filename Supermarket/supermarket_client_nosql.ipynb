{
 "cells": [
  {
   "cell_type": "code",
   "execution_count": null,
   "id": "physical-upset",
   "metadata": {},
   "outputs": [],
   "source": [
    "import socket\n",
    "\n",
    "my_socket = socket.socket()\n",
    "my_socket.connect(('127.0.0.1', 12345))\n",
    "\n",
    "while True:\n",
    "    action = input(\"Please input action and items: \")\n",
    "    my_socket.sendall(b'' + action.encode() + b'\\n')\n",
    "    \n",
    "    recieved = ''\n",
    "    while '\\n' not in recieved:\n",
    "        recieved += my_socket.recv(1024).decode()\n",
    "        \n",
    "    if recieved[:5] == \"CHECK\":\n",
    "        if recieved[6:11] == \"PRICE\":\n",
    "            print(recieved[12:])\n",
    "        elif recieved[6:10] == \"TYPE\":\n",
    "            print(recieved[11:])\n",
    "        else:\n",
    "            print(recieved[11:])\n",
    "        \n",
    "    elif recieved[:6] == \"UPDATE\":\n",
    "        print(recieved[7:])\n",
    "        \n",
    "    elif recieved[:6] == \"DELETE\":\n",
    "        print(recieved[7:])\n",
    "        \n",
    "    elif recieved[:3] == \"ADD\":\n",
    "        print(recieved[4:])\n",
    "        \n",
    "    elif recieved[:-1] == \"QUIT\":\n",
    "        print(\"Quit\")\n",
    "        break\n",
    "        \n",
    "    else:\n",
    "        print(\"Invalid Command.\")\n",
    "        pass\n",
    "        \n",
    "\n",
    "my_socket.close()"
   ]
  },
  {
   "cell_type": "code",
   "execution_count": null,
   "id": "naval-external",
   "metadata": {},
   "outputs": [],
   "source": []
  }
 ],
 "metadata": {
  "kernelspec": {
   "display_name": "Python 3",
   "language": "python",
   "name": "python3"
  },
  "language_info": {
   "codemirror_mode": {
    "name": "ipython",
    "version": 3
   },
   "file_extension": ".py",
   "mimetype": "text/x-python",
   "name": "python",
   "nbconvert_exporter": "python",
   "pygments_lexer": "ipython3",
   "version": "3.7.6"
  }
 },
 "nbformat": 4,
 "nbformat_minor": 5
}
